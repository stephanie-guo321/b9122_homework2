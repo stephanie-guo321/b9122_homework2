{
 "cells": [
  {
   "cell_type": "code",
   "execution_count": 37,
   "id": "68f697ab",
   "metadata": {},
   "outputs": [],
   "source": [
    "import requests\n",
    "from bs4 import BeautifulSoup\n",
    "import urllib.parse"
   ]
  },
  {
   "cell_type": "markdown",
   "id": "e0e60dba",
   "metadata": {},
   "source": [
    "Question 1: Part 1"
   ]
  },
  {
   "cell_type": "code",
   "execution_count": 38,
   "id": "c875707f",
   "metadata": {},
   "outputs": [
    {
     "data": {
      "text/plain": [
       "['https://press.un.org/en/2023/sgsm21982.doc.htm',\n",
       " 'https://press.un.org/en/2023/sgsm21980.doc.htm',\n",
       " 'https://press.un.org/en/2023/sgsm21978.doc.htm',\n",
       " 'https://press.un.org/en/2023/sgsm21947.doc.htm',\n",
       " 'https://press.un.org/en/2023/dsgsm1874.doc.htm',\n",
       " 'https://press.un.org/en/2023/sgsm21952.doc.htm',\n",
       " 'https://press.un.org/en/2023/sgsm21876.doc.htm',\n",
       " 'https://press.un.org/en/2023/sgsm21852.doc.htm',\n",
       " 'https://press.un.org/en/2023/sgsm21806.doc.htm',\n",
       " 'https://press.un.org/en/2023/dsgsm1848.doc.htm']"
      ]
     },
     "execution_count": 38,
     "metadata": {},
     "output_type": "execute_result"
    }
   ],
   "source": [
    "seed_url = \"https://press.un.org/en\"\n",
    "urls = [seed_url]\n",
    "seen = set([seed_url])\n",
    "crisis = []\n",
    "max_press = 10\n",
    "\n",
    "def check_crisis(pr, soup, curr):\n",
    "    if pr:\n",
    "        textt = soup.get_text().lower()\n",
    "        if 'crisis' in textt:\n",
    "            crisis.append(curr)\n",
    "\n",
    "while len(urls) > 0 and len(crisis) < max_press:\n",
    "    curr = urls.pop(0)\n",
    "    response = requests.get(curr, headers={'User-Agent': 'Mozilla/5.0'})\n",
    "\n",
    "    if response.status_code != 200:\n",
    "        continue\n",
    "\n",
    "    soup = BeautifulSoup(response.content, 'html.parser')\n",
    "    \n",
    "    for press in soup.find_all('a', href=True):\n",
    "        child = urllib.parse.urljoin(seed_url, press['href'])\n",
    "        if seed_url in child and child not in seen:\n",
    "            urls.append(child)\n",
    "            seen.add(child)\n",
    "\n",
    "    pr = soup.find('a', href='/en/press-release', hreflang='en')\n",
    "    check_crisis(pr, soup, curr)\n",
    "\n",
    "crisis"
   ]
  },
  {
   "cell_type": "code",
   "execution_count": 52,
   "id": "25328ef7",
   "metadata": {},
   "outputs": [],
   "source": [
    "for i, j in enumerate(crisis[:10], start=1):\n",
    "    response = requests.get(j)\n",
    "    if response.status_code == 200:\n",
    "        soup = BeautifulSoup(response.content, 'html.parser')\n",
    "        filename = '1_' + str(i) + '.txt'\n",
    "        with open(filename, 'w', encoding='utf-8') as file:\n",
    "            file.write(soup.prettify())"
   ]
  },
  {
   "cell_type": "markdown",
   "id": "1e765734",
   "metadata": {},
   "source": [
    "Question 1: Part 2"
   ]
  },
  {
   "cell_type": "code",
   "execution_count": 50,
   "id": "42a593bd",
   "metadata": {},
   "outputs": [
    {
     "data": {
      "text/plain": [
       "['https://www.europarl.europa.eu/news/en/press-room/20230929IPR06132/nagorno-karabakh-meps-demand-review-of-eu-relations-with-azerbaijan',\n",
       " 'https://www.europarl.europa.eu/news/en/press-room/20221209IPR64426/eu-long-term-budget-needs-urgent-revision-to-cope-with-current-crises',\n",
       " 'https://www.europarl.europa.eu/news/en/press-room/20210304IPR99207/parliament-gives-green-light-for-new-eu4health-programme',\n",
       " 'https://www.europarl.europa.eu/news/en/press-room/20220909IPR40138/parliament-adopts-new-rules-on-adequate-minimum-wages-for-all-workers-in-the-eu',\n",
       " 'https://www.europarl.europa.eu/news/en/press-room/20230310IPR77232/minimum-income-schemes-increasing-support-accessibility-and-inclusion',\n",
       " 'https://www.europarl.europa.eu/news/en/press-room/20230210IPR74806/green-deal-industrial-plan-securing-the-eu-s-clean-tech-leadership',\n",
       " 'https://www.europarl.europa.eu/news/en/press-room/20230707IPR02421/parliament-adopts-new-rules-to-boost-energy-savings',\n",
       " 'https://www.europarl.europa.eu/news/en/press-room/20220321IPR25913/more-eu-action-needed-for-secure-food-supply',\n",
       " 'https://www.europarl.europa.eu/news/en/press-room/20221209IPR64427/holodomor-parliament-recognises-soviet-starvation-of-ukrainians-as-genocide',\n",
       " 'https://www.europarl.europa.eu/news/en/press-room/20210422IPR02615/civil-protection-faster-eu-response-to-large-scale-emergencies']"
      ]
     },
     "execution_count": 50,
     "metadata": {},
     "output_type": "execute_result"
    }
   ],
   "source": [
    "seed_url = \"https://www.europarl.europa.eu/news/en/press-room\"\n",
    "urls = [seed_url]\n",
    "seen = set([seed_url])\n",
    "plenary_releases = []\n",
    "maxNum = 10\n",
    "\n",
    "def check_plenary(soup, curr_url):\n",
    "    plen = soup.find('span', class_='ep_name', text='Plenary session')\n",
    "    if plen is not None:\n",
    "        pr = soup.find('span', class_='ep_name', text='Press Releases')\n",
    "        if pr is not None:\n",
    "            textt = soup.get_text().lower()\n",
    "            if 'crisis' in textt:\n",
    "                plenary_releases.append(curr_url)\n",
    "\n",
    "while len(urls) > 0 and len(plenary_releases) < maxNum:\n",
    "    curr = urls.pop(0)\n",
    "    response = requests.get(curr, headers={'User-Agent': 'Mozilla/5.0'})\n",
    "    \n",
    "    if response.status_code != 200:\n",
    "        continue\n",
    "\n",
    "    soup = BeautifulSoup(response.content, 'html.parser')\n",
    "    check_plenary(soup, curr)\n",
    "    \n",
    "    for press in soup.find_all('a', href=True):\n",
    "        child = urllib.parse.urljoin(seed_url, press['href'])\n",
    "        if seed_url in child and child not in seen:\n",
    "            urls.append(child)\n",
    "            seen.add(child)\n",
    "\n",
    "(plenary_releases)"
   ]
  },
  {
   "cell_type": "code",
   "execution_count": 53,
   "id": "da5621f7",
   "metadata": {},
   "outputs": [],
   "source": [
    "for i, j in enumerate(plenary_releases[:10], start=1):\n",
    "    response = requests.get(j)\n",
    "    if response.status_code == 200:\n",
    "        soup = BeautifulSoup(response.content, 'html.parser')\n",
    "        filename = '2_' + str(i) + '.txt'\n",
    "        with open(filename, 'w', encoding='utf-8') as file:\n",
    "            file.write(soup.prettify())"
   ]
  }
 ],
 "metadata": {
  "kernelspec": {
   "display_name": "Python 3 (ipykernel)",
   "language": "python",
   "name": "python3"
  },
  "language_info": {
   "codemirror_mode": {
    "name": "ipython",
    "version": 3
   },
   "file_extension": ".py",
   "mimetype": "text/x-python",
   "name": "python",
   "nbconvert_exporter": "python",
   "pygments_lexer": "ipython3",
   "version": "3.9.7"
  }
 },
 "nbformat": 4,
 "nbformat_minor": 5
}
